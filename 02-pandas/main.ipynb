{
 "cells": [
  {
   "cell_type": "markdown",
   "id": "d847ee08-dccf-423e-b4bf-6f37063c05a5",
   "metadata": {},
   "source": [
    "## Pandas en DataScience\n",
    "\n",
    "Pandas en la biblioteca usada por defecto en Data Science. Diseñada específicamente para la manipulación y el análisis de datos. Pandas nos permite crear y leer tablas de datos bidimensionales (coordenadas $x$ e $y$, un fichero de Excel o hasta un .csv). Los datos almacenados en estas estructuras pueden ser tanto números como caracteres.\n",
    "\n",
    "Los Data Scientists y los programadores familiarizados con el lenguaje de programación R para cálculo estadístico utilizan DataFrames para almacenar datos en una cuadrícula muy sencilla de revisar. Por eso Pandas se utiliza mucho para Machine Learning.\n",
    "\n",
    "### ¿Qué puedes hacer Pandas?\n",
    "\n",
    "Casi todo lo que tú quieras. Actúa como una biblioteca que complementa a Numpy (tiene EDAs que heredan de Numpy). Puedes hacer cosas como:\n",
    "- calcular correlaciones\n",
    "- calcular medias, modas, valores máximos, mínimos...\n",
    "- eliminar filas/columnas\n",
    "- rellenar filas/columnas que se encuentren vacías"
   ]
  },
  {
   "cell_type": "markdown",
   "id": "8e763998-957b-42ef-af6b-cd3ba381ef15",
   "metadata": {},
   "source": [
    "## Pandas Intro"
   ]
  },
  {
   "cell_type": "code",
   "execution_count": 3,
   "id": "99d4689a-9ac9-4614-a52c-b0581de26f77",
   "metadata": {},
   "outputs": [],
   "source": [
    "import pandas as pd"
   ]
  },
  {
   "cell_type": "code",
   "execution_count": 10,
   "id": "18919d3b-cba8-4626-a3ff-a8779c184898",
   "metadata": {},
   "outputs": [
    {
     "name": "stdout",
     "output_type": "stream",
     "text": [
      "     alumnos  notaMedia\n",
      "0   Torrente        1.3\n",
      "1    Trancas        7.8\n",
      "2  Barrancas        9.1\n"
     ]
    }
   ],
   "source": [
    "dataset = {'alumnos': [\"Torrente\", \"Trancas\", \"Barrancas\"], \"notaMedia\": [1.3, 7.8, 9.1]} # diccionario en Python\n",
    "df = pd.DataFrame(dataset) # df = DataFrame\n",
    "print(df)"
   ]
  },
  {
   "cell_type": "markdown",
   "id": "191a04bb-3dfd-4c37-aca9-7ae4cceb54b8",
   "metadata": {},
   "source": [
    "Pandas tiene dos tipos de datos principales: las Series y los DataFrames"
   ]
  },
  {
   "cell_type": "markdown",
   "id": "e87c9656-23ca-4e4f-a4c4-08425e2ff016",
   "metadata": {},
   "source": [
    "## Series\n",
    "\n",
    "Es el equivalente de una columna en un DataFrame (Excel). Consiste en un array $1$-D"
   ]
  },
  {
   "cell_type": "code",
   "execution_count": 32,
   "id": "39e4e500-7929-44b8-b415-b33945d1167e",
   "metadata": {},
   "outputs": [
    {
     "name": "stdout",
     "output_type": "stream",
     "text": [
      "0     1032\n",
      "1     3843\n",
      "2    454.5\n",
      "3     hola\n",
      "dtype: object\n"
     ]
    }
   ],
   "source": [
    "a = [1032, 3843, 454.5, \"hola\"]\n",
    "myvar = pd.Series(a)\n",
    "print(myvar)"
   ]
  },
  {
   "cell_type": "markdown",
   "id": "809f75ac-5f18-4c3f-a1e5-7a83b5ddfbc8",
   "metadata": {},
   "source": [
    "Para acceder a un elemento en concreto, simplemente seleccionaremos su posición (índice), como si fuera un array normal:"
   ]
  },
  {
   "cell_type": "code",
   "execution_count": 35,
   "id": "7e3d4d60-bf94-49ef-bf09-d19b4233246e",
   "metadata": {},
   "outputs": [
    {
     "name": "stdout",
     "output_type": "stream",
     "text": [
      "454.5\n"
     ]
    }
   ],
   "source": [
    "print(a[2])"
   ]
  },
  {
   "cell_type": "markdown",
   "id": "6eb8fe3d-dfbf-4e10-9a47-09ee4f68073b",
   "metadata": {},
   "source": [
    "Los índices `0, 1, 2...` aparecen de manera automática. Podemos sobreescribirlos para cambiar su valor:"
   ]
  },
  {
   "cell_type": "code",
   "execution_count": 37,
   "id": "01ffbe70-84fa-4e0a-b624-c1a4ac274626",
   "metadata": {},
   "outputs": [
    {
     "name": "stdout",
     "output_type": "stream",
     "text": [
      "a     1032\n",
      "b     3843\n",
      "c    454.5\n",
      "d     hola\n",
      "dtype: object\n",
      "3843\n"
     ]
    }
   ],
   "source": [
    "a = [1032, 3843, 454.5, \"hola\"]\n",
    "myvar = pd.Series(a, index = [\"a\", \"b\", \"c\", \"d\"])\n",
    "print(myvar)\n",
    "print(myvar[\"b\"])"
   ]
  },
  {
   "cell_type": "markdown",
   "id": "8faef723-2d2f-4504-a41b-8f1b7bed9770",
   "metadata": {},
   "source": [
    "### Diccionarios como Series"
   ]
  },
  {
   "cell_type": "code",
   "execution_count": 39,
   "id": "21fe37f0-ec8b-4049-838d-034887592328",
   "metadata": {},
   "outputs": [
    {
     "name": "stdout",
     "output_type": "stream",
     "text": [
      "day1    420\n",
      "day2    380\n",
      "day3    390\n",
      "dtype: int64\n"
     ]
    }
   ],
   "source": [
    "gasofa = {\"day1\": 420, \"day2\": 380, \"day3\": 390} # actúa igual que pasar directamente\n",
    "myvar = pd.Series(gasofa)\n",
    "print(myvar)"
   ]
  },
  {
   "cell_type": "markdown",
   "id": "29731792-6cf2-4b76-a2f9-9a5c76111794",
   "metadata": {},
   "source": [
    "## DataFrames "
   ]
  },
  {
   "cell_type": "markdown",
   "id": "84f53f0d-a157-4f72-b9d7-b17052ea9d09",
   "metadata": {},
   "source": [
    "Al trabajar con un DataFrame, podemos optar a una serie de métodos de los DataFrames muy útiles para estudiar la información que contiene"
   ]
  },
  {
   "cell_type": "code",
   "execution_count": 14,
   "id": "98bd79c8-dbce-463f-9cbe-d41a8bd5887a",
   "metadata": {},
   "outputs": [
    {
     "data": {
      "text/html": [
       "<div>\n",
       "<style scoped>\n",
       "    .dataframe tbody tr th:only-of-type {\n",
       "        vertical-align: middle;\n",
       "    }\n",
       "\n",
       "    .dataframe tbody tr th {\n",
       "        vertical-align: top;\n",
       "    }\n",
       "\n",
       "    .dataframe thead th {\n",
       "        text-align: right;\n",
       "    }\n",
       "</style>\n",
       "<table border=\"1\" class=\"dataframe\">\n",
       "  <thead>\n",
       "    <tr style=\"text-align: right;\">\n",
       "      <th></th>\n",
       "      <th>alumnos</th>\n",
       "      <th>notaMedia</th>\n",
       "    </tr>\n",
       "  </thead>\n",
       "  <tbody>\n",
       "    <tr>\n",
       "      <th>0</th>\n",
       "      <td>Torrente</td>\n",
       "      <td>1.3</td>\n",
       "    </tr>\n",
       "    <tr>\n",
       "      <th>1</th>\n",
       "      <td>Trancas</td>\n",
       "      <td>7.8</td>\n",
       "    </tr>\n",
       "    <tr>\n",
       "      <th>2</th>\n",
       "      <td>Barrancas</td>\n",
       "      <td>9.1</td>\n",
       "    </tr>\n",
       "  </tbody>\n",
       "</table>\n",
       "</div>"
      ],
      "text/plain": [
       "     alumnos  notaMedia\n",
       "0   Torrente        1.3\n",
       "1    Trancas        7.8\n",
       "2  Barrancas        9.1"
      ]
     },
     "execution_count": 14,
     "metadata": {},
     "output_type": "execute_result"
    }
   ],
   "source": [
    "df.head() # las primeras cinco filas, útil para estudiar la estructura del archivo"
   ]
  },
  {
   "cell_type": "code",
   "execution_count": 16,
   "id": "4c8073a9-7cd2-4d3f-87ea-750f2664400b",
   "metadata": {},
   "outputs": [
    {
     "data": {
      "text/html": [
       "<div>\n",
       "<style scoped>\n",
       "    .dataframe tbody tr th:only-of-type {\n",
       "        vertical-align: middle;\n",
       "    }\n",
       "\n",
       "    .dataframe tbody tr th {\n",
       "        vertical-align: top;\n",
       "    }\n",
       "\n",
       "    .dataframe thead th {\n",
       "        text-align: right;\n",
       "    }\n",
       "</style>\n",
       "<table border=\"1\" class=\"dataframe\">\n",
       "  <thead>\n",
       "    <tr style=\"text-align: right;\">\n",
       "      <th></th>\n",
       "      <th>notaMedia</th>\n",
       "    </tr>\n",
       "  </thead>\n",
       "  <tbody>\n",
       "    <tr>\n",
       "      <th>count</th>\n",
       "      <td>3.000000</td>\n",
       "    </tr>\n",
       "    <tr>\n",
       "      <th>mean</th>\n",
       "      <td>6.066667</td>\n",
       "    </tr>\n",
       "    <tr>\n",
       "      <th>std</th>\n",
       "      <td>4.178915</td>\n",
       "    </tr>\n",
       "    <tr>\n",
       "      <th>min</th>\n",
       "      <td>1.300000</td>\n",
       "    </tr>\n",
       "    <tr>\n",
       "      <th>25%</th>\n",
       "      <td>4.550000</td>\n",
       "    </tr>\n",
       "    <tr>\n",
       "      <th>50%</th>\n",
       "      <td>7.800000</td>\n",
       "    </tr>\n",
       "    <tr>\n",
       "      <th>75%</th>\n",
       "      <td>8.450000</td>\n",
       "    </tr>\n",
       "    <tr>\n",
       "      <th>max</th>\n",
       "      <td>9.100000</td>\n",
       "    </tr>\n",
       "  </tbody>\n",
       "</table>\n",
       "</div>"
      ],
      "text/plain": [
       "       notaMedia\n",
       "count   3.000000\n",
       "mean    6.066667\n",
       "std     4.178915\n",
       "min     1.300000\n",
       "25%     4.550000\n",
       "50%     7.800000\n",
       "75%     8.450000\n",
       "max     9.100000"
      ]
     },
     "execution_count": 16,
     "metadata": {},
     "output_type": "execute_result"
    }
   ],
   "source": [
    "df.describe() # estadística básica"
   ]
  },
  {
   "cell_type": "code",
   "execution_count": 18,
   "id": "6b84d06f-45ee-4b6e-98a9-83a7650db848",
   "metadata": {},
   "outputs": [
    {
     "name": "stdout",
     "output_type": "stream",
     "text": [
      "<class 'pandas.core.frame.DataFrame'>\n",
      "RangeIndex: 3 entries, 0 to 2\n",
      "Data columns (total 2 columns):\n",
      " #   Column     Non-Null Count  Dtype  \n",
      "---  ------     --------------  -----  \n",
      " 0   alumnos    3 non-null      object \n",
      " 1   notaMedia  3 non-null      float64\n",
      "dtypes: float64(1), object(1)\n",
      "memory usage: 180.0+ bytes\n"
     ]
    }
   ],
   "source": [
    "df.info()"
   ]
  },
  {
   "cell_type": "code",
   "execution_count": 19,
   "id": "e7fec92f-6e90-4e75-939c-6b2c070e6f31",
   "metadata": {},
   "outputs": [
    {
     "data": {
      "text/plain": [
       "alumnos       object\n",
       "notaMedia    float64\n",
       "dtype: object"
      ]
     },
     "execution_count": 19,
     "metadata": {},
     "output_type": "execute_result"
    }
   ],
   "source": [
    "df.dtypes"
   ]
  },
  {
   "cell_type": "markdown",
   "id": "09697f7c-a770-4404-98f4-c4d37d756c27",
   "metadata": {},
   "source": [
    "Similar a Numpy, pero ahora las strings se consideran `object`. Podemos tener muchos tipos en Pandas: `intxx`, `floatxx`..., donde `xx` es la cantidad de bits que ocupan. \n",
    "\n",
    "**Una columna NO puede tener dos tipos distintos. Obtendremos un error si intentamos insertar un valor de un tipo incorrecto.**"
   ]
  },
  {
   "cell_type": "code",
   "execution_count": 22,
   "id": "2a499cc0-8fd1-49c8-935a-838f02972aea",
   "metadata": {},
   "outputs": [
    {
     "data": {
      "text/plain": [
       "Index(['alumnos', 'notaMedia'], dtype='object')"
      ]
     },
     "execution_count": 22,
     "metadata": {},
     "output_type": "execute_result"
    }
   ],
   "source": [
    "df.columns"
   ]
  },
  {
   "cell_type": "markdown",
   "id": "0c2e2760-2d7e-4fff-a88b-ddbebe44e96e",
   "metadata": {},
   "source": [
    "Podemos ver todas las columnas de nuestro DataFrame. Además, sabiendo que existen distintos tipos de objetos, podemos filtrarlos tal que:"
   ]
  },
  {
   "cell_type": "code",
   "execution_count": 28,
   "id": "3239028b-8f7e-481f-be39-b92d1a355760",
   "metadata": {},
   "outputs": [
    {
     "name": "stdout",
     "output_type": "stream",
     "text": [
      "alumnos -- variable categórica\n",
      "notaMedia -- variable numérica\n"
     ]
    }
   ],
   "source": [
    "for column in list(df.columns):\n",
    "    if df[column].dtypes == 'object': # accedemos a la columna y comprobamos sus tipos\n",
    "        print(f\"{column} -- variable categórica\")\n",
    "    else:\n",
    "        print(f\"{column} -- variable numérica\")"
   ]
  }
 ],
 "metadata": {
  "kernelspec": {
   "display_name": "Python 3 (ipykernel)",
   "language": "python",
   "name": "python3"
  },
  "language_info": {
   "codemirror_mode": {
    "name": "ipython",
    "version": 3
   },
   "file_extension": ".py",
   "mimetype": "text/x-python",
   "name": "python",
   "nbconvert_exporter": "python",
   "pygments_lexer": "ipython3",
   "version": "3.13.2"
  }
 },
 "nbformat": 4,
 "nbformat_minor": 5
}
