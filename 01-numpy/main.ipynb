{
 "cells": [
  {
   "cell_type": "code",
   "execution_count": 10,
   "id": "39ef8f3b-0cc3-4f2c-957f-f0b6d9e1f1b1",
   "metadata": {},
   "outputs": [],
   "source": [
    "import numpy as np"
   ]
  },
  {
   "cell_type": "markdown",
   "id": "55b87aed-cccd-4e94-81d4-8332069df83c",
   "metadata": {
    "jp-MarkdownHeadingCollapsed": true
   },
   "source": [
    "## Numpy Arrays \n",
    "\n",
    "Los arrays de Numpy permiten acceder de manera mucho más óptima (al estar diseñados en C) a contenidos de datos. Además, existen una gran cantidad de operaciones aritméticas y estadísticas `in-built`."
   ]
  },
  {
   "cell_type": "code",
   "execution_count": 11,
   "id": "772baab1-c3ad-45b7-a12f-3d689e8e2a08",
   "metadata": {},
   "outputs": [
    {
     "name": "stdout",
     "output_type": "stream",
     "text": [
      "[1, 2, 3, 4, 5] --- Type: <class 'list'>\n",
      "[1 2 3 4 5] --- Type: <class 'numpy.ndarray'>\n"
     ]
    }
   ],
   "source": [
    "arr = [1,2,3,4,5]\n",
    "print(f\"{arr} --- Type: {type(arr)}\")\n",
    "\n",
    "numpy_arr = np.array(arr)\n",
    "print(f\"{numpy_arr} --- Type: {type(numpy_arr)}\")"
   ]
  },
  {
   "cell_type": "markdown",
   "id": "d1b4a4c7-c8f4-4cbe-8839-0116002ce18e",
   "metadata": {
    "jp-MarkdownHeadingCollapsed": true
   },
   "source": [
    "## Dimensiones en Numpy\n",
    "\n",
    "Numpy permite hacer arrays nestados (al igual que en Python Vanilla), permitiendo crear arrays $n$-dimensionales. ¿Cómo se hace esto?"
   ]
  },
  {
   "cell_type": "code",
   "execution_count": 12,
   "id": "121ad8b3-2afb-495f-a918-c9e423f4c0ad",
   "metadata": {},
   "outputs": [
    {
     "name": "stdout",
     "output_type": "stream",
     "text": [
      "42 () 0 \n",
      "\n",
      "[1 2 3 4 5] (5,) 1 \n",
      "\n",
      "[[1 2 3]\n",
      " [4 5 6]] (2, 3) 2 \n",
      "\n"
     ]
    }
   ],
   "source": [
    "arr = np.array(42) # 0-Dimensional\n",
    "print(arr, arr.shape, arr.ndim, \"\\n\")\n",
    "\n",
    "arr = np.array([1, 2, 3, 4, 5]) # 1-Dimensional\n",
    "print(arr, arr.shape, arr.ndim, \"\\n\")\n",
    "\n",
    "arr = np.array([[1,2,3], [4,5,6]]) # 2-Dimensional\n",
    "print(arr, arr.shape, arr.ndim, \"\\n\") # obtenemos una matriz de tamaño 2 columnas x 3 filas"
   ]
  },
  {
   "cell_type": "markdown",
   "id": "e2e00179-fe85-44a7-843a-bbbdf7061364",
   "metadata": {},
   "source": [
    "Podemos forzar la dimensionalidad de un array tal que:"
   ]
  },
  {
   "cell_type": "code",
   "execution_count": 13,
   "id": "66943d95-314b-4e5e-9d1f-60777797d7b9",
   "metadata": {},
   "outputs": [
    {
     "name": "stdout",
     "output_type": "stream",
     "text": [
      "[[[[[1 2 3 4]]]]]\n"
     ]
    }
   ],
   "source": [
    "arr = np.array([1, 2, 3, 4], ndmin=5)\n",
    "print(arr)"
   ]
  },
  {
   "cell_type": "markdown",
   "id": "6b644f47-4958-439f-8c01-5182d8fa56f8",
   "metadata": {
    "jp-MarkdownHeadingCollapsed": true
   },
   "source": [
    "## Reshape en Numpy\n",
    "\n",
    "Un numpy array tiene el atributo `.shape`, que nos permite visualizar la forma del array. Pero ¿y si queremos modificar dicha forma (ya sea para usarlo en Tensores (Machine Learning) u por motivos diversos)?"
   ]
  },
  {
   "cell_type": "code",
   "execution_count": 90,
   "id": "3d58dab5-e3ff-439f-8336-17f02e754f6e",
   "metadata": {},
   "outputs": [
    {
     "name": "stdout",
     "output_type": "stream",
     "text": [
      "[9 4 1 7 3 8 6 2 3 0 5 6]\n",
      "[[2 6 3]\n",
      " [7 2 5]\n",
      " [8 7 2]\n",
      " [9 4 3]]\n"
     ]
    }
   ],
   "source": [
    "from numpy import random\n",
    "\n",
    "arr=random.randint(10, size=(12))\n",
    "print(x)\n",
    "\n",
    "newarr = arr.reshape(4, 3)\n",
    "print(newarr) \n",
    "# muy útil para convertir 1-D en matrices o tensores!"
   ]
  },
  {
   "cell_type": "markdown",
   "id": "f2f69035-573e-4ae7-95f0-084b13beeb3f",
   "metadata": {},
   "source": [
    "**¿Podemos hacer reshape siempre?** -> NO\n",
    "\n",
    "Solo podemos hacer reshape cuando el tamaño total del array original permita tener en el nuevo array el mismo número de elementos en cada parte."
   ]
  },
  {
   "cell_type": "code",
   "execution_count": 93,
   "id": "43b99136-d477-431b-b0b7-28ce7d2325fb",
   "metadata": {},
   "outputs": [
    {
     "name": "stdout",
     "output_type": "stream",
     "text": [
      "=== error === cannot reshape array of size 8 into shape (3,3)\n"
     ]
    }
   ],
   "source": [
    "try:\n",
    "    arr = np.array([1, 2, 3, 4, 5, 6, 7, 8]) # ocho elementos\n",
    "    newarr = arr.reshape(3, 3) # necesitamos nueve elementos\n",
    "    print(newarr)\n",
    "except Exception as e:\n",
    "    print(f\"=== error === {e}\")"
   ]
  },
  {
   "cell_type": "markdown",
   "id": "b8330cfd-bf83-44aa-aaee-dd1c913b4720",
   "metadata": {
    "jp-MarkdownHeadingCollapsed": true
   },
   "source": [
    "## Acceder a los elementos del array\n",
    "\n",
    "Al igual que en Python Vanilla, tenemos la posibilidad de acceder a los elementos que conforman un array usando los índices en los que están dispuestos.\n",
    "\n",
    "En la programación, **el primer índice suele ser el `0`**."
   ]
  },
  {
   "cell_type": "code",
   "execution_count": 14,
   "id": "399e8240-4860-4639-adf9-e70c39f2f63e",
   "metadata": {},
   "outputs": [
    {
     "name": "stdout",
     "output_type": "stream",
     "text": [
      "1\n",
      "2\n",
      "3\n",
      "4\n",
      "5\n",
      "6\n",
      "7\n",
      "8\n",
      "9\n",
      "10\n"
     ]
    }
   ],
   "source": [
    "arr = np.array([1,2,3,4,5,6,7,8,9,10])\n",
    "for i in range(0, 10, 1): # empezamos en cero, acabamos en la pos 9\n",
    "    print(arr[i]) # imprime el valor de dicha posición"
   ]
  },
  {
   "cell_type": "code",
   "execution_count": 15,
   "id": "33591158-f280-4e60-8571-13485bfa8a09",
   "metadata": {},
   "outputs": [
    {
     "name": "stdout",
     "output_type": "stream",
     "text": [
      "7\n"
     ]
    }
   ],
   "source": [
    "arr = np.array([1, 2, 3, 4])\n",
    "\n",
    "print(arr[2] + arr[3]) # devuelve la suma de los elementos en las posiciones 2 y 3"
   ]
  },
  {
   "cell_type": "markdown",
   "id": "9c80ef9c-c46d-4815-9f47-64317f2b2fb4",
   "metadata": {},
   "source": [
    "### Acceder a arrays $n$-dimensionales"
   ]
  },
  {
   "cell_type": "code",
   "execution_count": 9,
   "id": "b6f38853-1d5d-4c52-8e33-fc70f30cbe62",
   "metadata": {},
   "outputs": [
    {
     "name": "stdout",
     "output_type": "stream",
     "text": [
      "(2, 2, 3)\n",
      "6\n"
     ]
    }
   ],
   "source": [
    "arr = np.array([[[1, 2, 3], [4, 5, 6]], [[7, 8, 9], [10, 11, 12]]])\n",
    "print(arr.shape) \n",
    "print(arr[0, 1, 2]) # first element, second element, third element"
   ]
  },
  {
   "cell_type": "markdown",
   "id": "6d3de59a-f634-4480-aa7e-eaeef71df37a",
   "metadata": {
    "jp-MarkdownHeadingCollapsed": true
   },
   "source": [
    "## Array Slicing\n",
    "\n",
    "Esto significa seleccionar, en un array, una serie de elementos."
   ]
  },
  {
   "cell_type": "code",
   "execution_count": 20,
   "id": "329b434e-03e6-463e-b9ff-81c7f306ddde",
   "metadata": {},
   "outputs": [
    {
     "name": "stdout",
     "output_type": "stream",
     "text": [
      "[2 3 4 5]\n"
     ]
    }
   ],
   "source": [
    "arr = np.array([1, 2, 3, 4, 5, 6, 7])\n",
    "\n",
    "print(arr[1:5]) # del elemento en la segunda posición hasta la sexta"
   ]
  },
  {
   "cell_type": "markdown",
   "id": "0694f20d-4c63-4096-85da-d655ccd4283f",
   "metadata": {},
   "source": [
    "¿Cómo podemos imprimir desde la tercera posición hasta la última?"
   ]
  },
  {
   "cell_type": "code",
   "execution_count": 21,
   "id": "76792802-fe35-405b-b74e-bd3c7d927629",
   "metadata": {},
   "outputs": [
    {
     "name": "stdout",
     "output_type": "stream",
     "text": [
      "[4 5 6 7]\n"
     ]
    }
   ],
   "source": [
    "print(arr[3:])"
   ]
  },
  {
   "cell_type": "markdown",
   "id": "776326b7-eaed-400f-a52e-2963e5d5d905",
   "metadata": {},
   "source": [
    "¿Y desde la primera hasta la segunda posición? "
   ]
  },
  {
   "cell_type": "code",
   "execution_count": 24,
   "id": "106cd0b1-af42-42bc-81c1-7c1467a182e3",
   "metadata": {},
   "outputs": [
    {
     "name": "stdout",
     "output_type": "stream",
     "text": [
      "[1 2 3]\n"
     ]
    }
   ],
   "source": [
    "print(arr[:3]) # hasta el índice 3, pero no cuenta"
   ]
  },
  {
   "cell_type": "markdown",
   "id": "0eed8e02-a120-46ea-adf4-8ac656e5c636",
   "metadata": {},
   "source": [
    "Hemos iterado de izquierda a derecha desde el principio del array (posición 0). ¿Pero y si quiero empezar desde el final?"
   ]
  },
  {
   "cell_type": "code",
   "execution_count": 26,
   "id": "edfc40cf-2907-4979-ae8f-96f7938d65d7",
   "metadata": {},
   "outputs": [
    {
     "name": "stdout",
     "output_type": "stream",
     "text": [
      "[5 6]\n"
     ]
    }
   ],
   "source": [
    "print(arr[-3:-1]) # from the index 3 from the end to index 1 from the end"
   ]
  },
  {
   "cell_type": "markdown",
   "id": "720d5473-0830-4cca-8e2b-7f83c8dcbd22",
   "metadata": {},
   "source": [
    "$n-dimensional$ Array Slicing"
   ]
  },
  {
   "cell_type": "code",
   "execution_count": 36,
   "id": "1709c2e3-b731-49f6-bc26-1a175ef9ca90",
   "metadata": {},
   "outputs": [
    {
     "name": "stdout",
     "output_type": "stream",
     "text": [
      "[1 2 3]\n"
     ]
    }
   ],
   "source": [
    "arr = np.array([[1, 2, 3, 4, 5], [6, 7, 8, 9, 10]])\n",
    "\n",
    "print(arr[0, 0:3]) # primer elemento, dentro del primer elemento los tres primeros indices"
   ]
  },
  {
   "cell_type": "markdown",
   "id": "874a2960-4cbb-4e23-a1f1-c192da088490",
   "metadata": {},
   "source": [
    "Esto es aplicable a arrays de dimensión $n$. Debemos de poner tantos índices como dimensiones tenga el array (y queramos trabajar con ellas)"
   ]
  },
  {
   "cell_type": "markdown",
   "id": "6dd10fb0-6489-47f9-a042-3c282482054f",
   "metadata": {
    "jp-MarkdownHeadingCollapsed": true
   },
   "source": [
    "### Steps\n",
    "\n",
    "El equivalente del `for i in range(0, len(arr), 1)` en Python Vanilla, pero con una sintaxis mucho más cómoda."
   ]
  },
  {
   "cell_type": "code",
   "execution_count": 28,
   "id": "4acdd9db-47f7-406b-abdf-8b18a3f7f879",
   "metadata": {},
   "outputs": [
    {
     "name": "stdout",
     "output_type": "stream",
     "text": [
      "[2 4]\n"
     ]
    }
   ],
   "source": [
    "arr = np.array([1, 2, 3, 4, 5, 6, 7])\n",
    "\n",
    "print(arr[1:5:2]) # desde la pos1 hasta la pos5, de 2 en 2 -> pos1 -> pos3 -> pos5 (no se cuenta)"
   ]
  },
  {
   "cell_type": "markdown",
   "id": "a84f1491-f979-4390-a487-431dfb528d5b",
   "metadata": {},
   "source": [
    "¿Y qué pasa si en vez de 2 usamos -2?"
   ]
  },
  {
   "cell_type": "code",
   "execution_count": 32,
   "id": "2dab7901-8c27-4803-b3a8-640e5a93fcfe",
   "metadata": {},
   "outputs": [
    {
     "name": "stdout",
     "output_type": "stream",
     "text": [
      "[6 5 4 3]\n"
     ]
    }
   ],
   "source": [
    "print(arr[5:1:-1]) # desde la pos 5 hasta la pos1 (no cuenta), de -1 en -1"
   ]
  },
  {
   "cell_type": "markdown",
   "id": "79d36483-9a5b-441c-8412-e295d2343a3c",
   "metadata": {
    "jp-MarkdownHeadingCollapsed": true
   },
   "source": [
    "## Iterar por el array\n",
    "\n",
    "Un numpy array no es tan diferente de un array de Python Vanilla. Si iteramos a través de él, solamente profundizaremos en su dimensión menos profunda."
   ]
  },
  {
   "cell_type": "code",
   "execution_count": 96,
   "id": "093a625b-03c9-4f33-89e3-dae156f77e6a",
   "metadata": {},
   "outputs": [
    {
     "name": "stdout",
     "output_type": "stream",
     "text": [
      "1\n",
      "2\n",
      "3\n",
      "[1 2 3]\n",
      "[4 5 6]\n"
     ]
    }
   ],
   "source": [
    "arr = np.array([1, 2, 3])\n",
    "arr2 = np.array([[1, 2, 3], [4, 5, 6]])\n",
    "\n",
    "for x in arr:\n",
    "  print(x) \n",
    "\n",
    "for x in arr2:\n",
    "  print(x) "
   ]
  },
  {
   "cell_type": "markdown",
   "id": "f4d03821-d2e5-4b9c-b541-82fd6fd8684d",
   "metadata": {},
   "source": [
    "¿Y si queremos iterar en una mayor profundidad?"
   ]
  },
  {
   "cell_type": "code",
   "execution_count": 97,
   "id": "3153b306-1660-4902-9a8a-39b7ffef1198",
   "metadata": {},
   "outputs": [
    {
     "name": "stdout",
     "output_type": "stream",
     "text": [
      "1\n",
      "2\n",
      "3\n",
      "4\n",
      "5\n",
      "6\n"
     ]
    }
   ],
   "source": [
    "arr = np.array([[1, 2, 3], [4, 5, 6]])\n",
    "\n",
    "for x in arr:\n",
    "    for y in x:\n",
    "        print(y)"
   ]
  },
  {
   "cell_type": "markdown",
   "id": "1b05a4d4-37d2-4c7d-8847-fc86c6472ce2",
   "metadata": {},
   "source": [
    "Esto sigue la estructura común de un array en Python Vanilla. Es decir, recorremos todos los elementos (pos 0 y pos1). Para cada elemento, recorrer todos los elementos que se encuentran dentro de dicho array."
   ]
  },
  {
   "cell_type": "markdown",
   "id": "febe5adc-35c8-449a-8a0a-30122f05d0ef",
   "metadata": {
    "jp-MarkdownHeadingCollapsed": true
   },
   "source": [
    "## Tipos de Datos - Numpy\n",
    "\n",
    "Heredan de los tipos de Python, pero **NO SON** tipos de Python. Entre ellos podemos encontrar los siguientes:\n",
    "\n",
    "- strings - S\n",
    "- integer - i \n",
    "- float - f\n",
    "- boolean\n",
    "- complex"
   ]
  },
  {
   "cell_type": "code",
   "execution_count": 53,
   "id": "799ac19c-dd57-41ff-9a3d-f5ff5a81e282",
   "metadata": {},
   "outputs": [
    {
     "name": "stdout",
     "output_type": "stream",
     "text": [
      "int64\n",
      "float64\n",
      "<U4\n"
     ]
    }
   ],
   "source": [
    "arr1 = np.array([1, 2, 3, 4])\n",
    "arr2 = np.array([5.0, 6.0])\n",
    "arr3 = np.array([\"1\", \"2.0\", \"hola\"])\n",
    "\n",
    "print(arr1.dtype)\n",
    "print(arr2.dtype)\n",
    "print(arr3.dtype) # < word (4 bytes)"
   ]
  },
  {
   "cell_type": "markdown",
   "id": "db9bdb25-1eda-44f8-b633-0678b9e46ae2",
   "metadata": {},
   "source": [
    "Además puedes crear un numpy array definirlo de un tipo en concreto. Así, si erróneamente insertar un valor equivocado, no tendrás que preocuparte, ya que obtendrás un `ValueError`"
   ]
  },
  {
   "cell_type": "code",
   "execution_count": 52,
   "id": "8f201dc8-9c8d-40ce-9f5d-5f07dbb75dd2",
   "metadata": {},
   "outputs": [
    {
     "name": "stdout",
     "output_type": "stream",
     "text": [
      "[1 2 3 4]\n",
      "int32\n"
     ]
    }
   ],
   "source": [
    "arr = np.array([1, 2, 3, 4], dtype='i')\n",
    "\n",
    "print(arr)\n",
    "print(arr.dtype) "
   ]
  },
  {
   "cell_type": "markdown",
   "id": "9d20807b-01e7-4cf0-96a4-c8ff2be833a6",
   "metadata": {},
   "source": [
    "Pero quiero convertir `arr2` a `integer` para poder mergearlo con `arr`. Para ello, primero tienes que convertir los tipos de ese Numpy Array."
   ]
  },
  {
   "cell_type": "code",
   "execution_count": 60,
   "id": "f74592c9-e8e7-4c35-9650-d41cda4c6317",
   "metadata": {},
   "outputs": [
    {
     "name": "stdout",
     "output_type": "stream",
     "text": [
      "[1 2 3 4]\n",
      "int64\n",
      "[1 2 3 4 5 6]\n"
     ]
    }
   ],
   "source": [
    "arr2 = np.array([5.0, 6.0])\n",
    "\n",
    "newarr = arr2.astype(int)\n",
    "\n",
    "print(arr)\n",
    "print(newarr.dtype) \n",
    "print(np.concatenate((arr, newarr)))"
   ]
  },
  {
   "cell_type": "markdown",
   "id": "25151831-b9fb-4521-ad46-4215c68b50a9",
   "metadata": {},
   "source": [
    "Acabas de usar `concatenate`, una función para mergear arrays en la misma dimensión. Pero ¿qué pasa si quiero mergearlos y aumentar la dimensión? Para ello usamos la función `stack`."
   ]
  },
  {
   "cell_type": "code",
   "execution_count": 68,
   "id": "85e5bf17-59a5-4705-8968-90e4d75e3bc4",
   "metadata": {},
   "outputs": [
    {
     "name": "stdout",
     "output_type": "stream",
     "text": [
      "[[1 2]\n",
      " [5 6]]\n"
     ]
    }
   ],
   "source": [
    "arr = np.array([1, 2], dtype='i')\n",
    "arr2 = np.array([5.0, 6.0])\n",
    "newarr = arr2.astype(int)\n",
    "\n",
    "print(np.stack((arr, newarr)))"
   ]
  },
  {
   "cell_type": "markdown",
   "id": "f2e16d3a-5f74-4f95-934c-aa8abb73d554",
   "metadata": {},
   "source": [
    "Si `stack` detecta que las dimensiones no coinciden, nos lanzará un error."
   ]
  },
  {
   "cell_type": "code",
   "execution_count": 66,
   "id": "cad9fcb9-af8c-48c5-8454-5ad4bf44565a",
   "metadata": {},
   "outputs": [
    {
     "name": "stdout",
     "output_type": "stream",
     "text": [
      "=== ERROR === all input arrays must have the same shape, arr:(3,), arr2: (2,)\n"
     ]
    }
   ],
   "source": [
    "arr = np.array([1, 2, 3], dtype='i')\n",
    "arr2 = np.array([5.0, 6.0])\n",
    "\n",
    "newarr = arr2.astype(int)\n",
    "\n",
    "try: \n",
    "    print(np.stack((arr, newarr)))\n",
    "except Exception as e:\n",
    "    print(f\"=== ERROR === {e}, arr:{arr.shape}, arr2: {arr2.shape}\")"
   ]
  },
  {
   "cell_type": "markdown",
   "id": "6bc46c37-f87f-4eae-822c-5695fc157183",
   "metadata": {
    "jp-MarkdownHeadingCollapsed": true
   },
   "source": [
    "## COPY vs VIEW\n",
    "\n",
    "Mientras que usar **COPY** permite copiar el array en una nueva variable (esto duplicar el array en un nuevo fragmento de memoria independiente al anterior array), **VIEW** permite visualizar y hacer cambios en el propio array usando otra variable. Esto es como un puntero que apunta a la dirección de memoria de un array original. (para más detalles véase [Punteros en C](https://en.cppreference.com/w/c/language/pointer))"
   ]
  },
  {
   "cell_type": "code",
   "execution_count": 76,
   "id": "038d9b3d-a368-49c2-8c8d-a3272d12c198",
   "metadata": {},
   "outputs": [
    {
     "name": "stdout",
     "output_type": "stream",
     "text": [
      "[1 2 3 4 5]\n",
      "[42  2  3  4  5]\n",
      "[42  2  3  4  5]\n",
      "[999   2   3   4   5]\n"
     ]
    }
   ],
   "source": [
    "arr = np.array([1,2,3,4,5])\n",
    "print(arr)\n",
    "\n",
    "x = arr.view()\n",
    "arr[0] = 42\n",
    "\n",
    "print(arr)\n",
    "print(x) \n",
    "\n",
    "x[0] = 999\n",
    "\n",
    "print(x)"
   ]
  },
  {
   "cell_type": "code",
   "execution_count": 80,
   "id": "caa66b1d-ebe0-4349-ab7c-2668eefcd7cf",
   "metadata": {},
   "outputs": [
    {
     "name": "stdout",
     "output_type": "stream",
     "text": [
      "[1 2 3 4 5]\n",
      "arr: [42  2  3  4  5]\n",
      "x_copy: [1 2 3 4 5]\n"
     ]
    }
   ],
   "source": [
    "arr = np.array([1,2,3,4,5])\n",
    "print(arr)\n",
    "\n",
    "x = arr.copy()\n",
    "arr[0] = 42\n",
    "\n",
    "print(f\"arr: {arr}\\nx_copy: {x}\")"
   ]
  },
  {
   "cell_type": "markdown",
   "id": "f6b09a02-8b99-4447-9a4b-bcb3ba2532c5",
   "metadata": {},
   "source": [
    "## Search \n",
    "\n",
    "Anda, podemos hacer *queries* en estoy arrays. Bueno, sí. Algo parecido..."
   ]
  },
  {
   "cell_type": "code",
   "execution_count": 100,
   "id": "49995957-54c7-4226-a484-1a1118105ea2",
   "metadata": {},
   "outputs": [
    {
     "name": "stdout",
     "output_type": "stream",
     "text": [
      "(array([3, 5, 6]),)\n"
     ]
    }
   ],
   "source": [
    "arr = np.array([1, 2, 3, 4, 5, 4, 4])\n",
    "\n",
    "x = np.where(arr == 4) # devuelve los índices donde se encuentra dicho valor\n",
    "print(x) "
   ]
  },
  {
   "cell_type": "code",
   "execution_count": 101,
   "id": "4899942c-8a84-4ab8-a5f2-bcca7471f334",
   "metadata": {},
   "outputs": [
    {
     "name": "stdout",
     "output_type": "stream",
     "text": [
      "(array([4]),)\n"
     ]
    }
   ],
   "source": [
    "y = np.where(arr%5 == 0) # mod 5\n",
    "print(y)"
   ]
  },
  {
   "cell_type": "markdown",
   "id": "209c6ebb-4a92-40fc-870f-7ec534c6d5e0",
   "metadata": {},
   "source": [
    "Hasta aquí la introducción a Numpy. Ahora vamos a meternos más en materia. A partir de ahora veremos **Numpy aplicado a Estadística**"
   ]
  },
  {
   "cell_type": "markdown",
   "id": "ac5c0ef0-a104-4987-89a7-7401317d1e25",
   "metadata": {},
   "source": [
    "## Numpy aplicado a estadística"
   ]
  }
 ],
 "metadata": {
  "kernelspec": {
   "display_name": "Python 3 (ipykernel)",
   "language": "python",
   "name": "python3"
  },
  "language_info": {
   "codemirror_mode": {
    "name": "ipython",
    "version": 3
   },
   "file_extension": ".py",
   "mimetype": "text/x-python",
   "name": "python",
   "nbconvert_exporter": "python",
   "pygments_lexer": "ipython3",
   "version": "3.11.9"
  }
 },
 "nbformat": 4,
 "nbformat_minor": 5
}
