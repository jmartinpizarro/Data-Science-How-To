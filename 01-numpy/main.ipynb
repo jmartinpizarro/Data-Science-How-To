{
 "cells": [
  {
   "cell_type": "code",
   "execution_count": 2,
   "id": "39ef8f3b-0cc3-4f2c-957f-f0b6d9e1f1b1",
   "metadata": {},
   "outputs": [],
   "source": [
    "import numpy as np"
   ]
  },
  {
   "cell_type": "markdown",
   "id": "55b87aed-cccd-4e94-81d4-8332069df83c",
   "metadata": {},
   "source": [
    "## Numpy Arrays \n",
    "\n",
    "Los arrays de Numpy permiten acceder de manera mucho más óptima (al estar diseñados en C) a contenidos de datos. Además, existen una gran cantidad de operaciones aritméticas y estadísticas `in-built`."
   ]
  },
  {
   "cell_type": "code",
   "execution_count": 8,
   "id": "772baab1-c3ad-45b7-a12f-3d689e8e2a08",
   "metadata": {},
   "outputs": [
    {
     "name": "stdout",
     "output_type": "stream",
     "text": [
      "[1, 2, 3, 4, 5] --- Type: <class 'list'>\n",
      "[1 2 3 4 5] --- Type: <class 'numpy.ndarray'>\n"
     ]
    }
   ],
   "source": [
    "arr = [1,2,3,4,5]\n",
    "print(f\"{arr} --- Type: {type(arr)}\")\n",
    "\n",
    "numpy_arr = np.array(arr)\n",
    "print(f\"{numpy_arr} --- Type: {type(numpy_arr)}\")"
   ]
  },
  {
   "cell_type": "markdown",
   "id": "d1b4a4c7-c8f4-4cbe-8839-0116002ce18e",
   "metadata": {},
   "source": [
    "## Dimensiones en Numpy\n",
    "\n",
    "Numpy permite hacer arrays nestados (al igual que en Python Vanilla), permitiendo crear arrays $n$-dimensionales. ¿Cómo se hace esto?"
   ]
  },
  {
   "cell_type": "code",
   "execution_count": 16,
   "id": "121ad8b3-2afb-495f-a918-c9e423f4c0ad",
   "metadata": {},
   "outputs": [
    {
     "name": "stdout",
     "output_type": "stream",
     "text": [
      "42 () 0 \n",
      "\n",
      "[1 2 3 4 5] (5,) 1 \n",
      "\n",
      "[[1 2 3]\n",
      " [4 5 6]] (2, 3) 2 \n",
      "\n"
     ]
    }
   ],
   "source": [
    "arr = np.array(42) # 0-Dimensional\n",
    "print(arr, arr.shape, arr.ndim, \"\\n\")\n",
    "\n",
    "arr = np.array([1, 2, 3, 4, 5]) # 1-Dimensional\n",
    "print(arr, arr.shape, arr.ndim, \"\\n\")\n",
    "\n",
    "arr = np.array([[1,2,3], [4,5,6]]) # 2-Dimensional\n",
    "print(arr, arr.shape, arr.ndim, \"\\n\") # obtenemos una matriz de tamaño 2 columnas x 3 filas"
   ]
  },
  {
   "cell_type": "markdown",
   "id": "e2e00179-fe85-44a7-843a-bbbdf7061364",
   "metadata": {},
   "source": [
    "Podemos forzar la dimensionalidad de un array tal que:"
   ]
  },
  {
   "cell_type": "code",
   "execution_count": 18,
   "id": "66943d95-314b-4e5e-9d1f-60777797d7b9",
   "metadata": {},
   "outputs": [
    {
     "name": "stdout",
     "output_type": "stream",
     "text": [
      "[[[[[1 2 3 4]]]]]\n"
     ]
    }
   ],
   "source": [
    "arr = np.array([1, 2, 3, 4], ndmin=5)\n",
    "print(arr)"
   ]
  },
  {
   "cell_type": "markdown",
   "id": "b8330cfd-bf83-44aa-aaee-dd1c913b4720",
   "metadata": {},
   "source": [
    "## Acceder a los elementos del array\n",
    "\n",
    "Al igual que en Python Vanilla, tenemos la posibilidad de acceder a los elementos que conforman un array usando los índices en los que están dispuestos.\n",
    "\n",
    "En la programación, **el primer índice suele ser el `0`**."
   ]
  },
  {
   "cell_type": "code",
   "execution_count": 23,
   "id": "399e8240-4860-4639-adf9-e70c39f2f63e",
   "metadata": {},
   "outputs": [
    {
     "name": "stdout",
     "output_type": "stream",
     "text": [
      "1\n",
      "2\n",
      "3\n",
      "4\n",
      "5\n",
      "6\n",
      "7\n",
      "8\n",
      "9\n",
      "10\n"
     ]
    }
   ],
   "source": [
    "arr = np.array([1,2,3,4,5,6,7,8,9,10])\n",
    "for i in range(0, 10, 1): # empezamos en cero, acabamos en la pos 9\n",
    "    print(arr[i]) # imprime el valor de dicha posición"
   ]
  },
  {
   "cell_type": "code",
   "execution_count": 24,
   "id": "33591158-f280-4e60-8571-13485bfa8a09",
   "metadata": {},
   "outputs": [
    {
     "name": "stdout",
     "output_type": "stream",
     "text": [
      "7\n"
     ]
    }
   ],
   "source": [
    "arr = np.array([1, 2, 3, 4])\n",
    "\n",
    "print(arr[2] + arr[3]) # devuelve la suma de los elementos en las posiciones 2 y 3"
   ]
  },
  {
   "cell_type": "markdown",
   "id": "9c80ef9c-c46d-4815-9f47-64317f2b2fb4",
   "metadata": {},
   "source": [
    "### Acceder a arrays $n$-dimensionales"
   ]
  }
 ],
 "metadata": {
  "kernelspec": {
   "display_name": "Python 3 (ipykernel)",
   "language": "python",
   "name": "python3"
  },
  "language_info": {
   "codemirror_mode": {
    "name": "ipython",
    "version": 3
   },
   "file_extension": ".py",
   "mimetype": "text/x-python",
   "name": "python",
   "nbconvert_exporter": "python",
   "pygments_lexer": "ipython3",
   "version": "3.10.12"
  }
 },
 "nbformat": 4,
 "nbformat_minor": 5
}
